{
 "cells": [
  {
   "cell_type": "code",
   "execution_count": 1,
   "id": "07707623-fba6-4ffe-9caf-d881ea8bbd87",
   "metadata": {},
   "outputs": [
    {
     "name": "stdout",
     "output_type": "stream",
     "text": [
      "hola\n"
     ]
    }
   ],
   "source": [
    "print(\"hola\")"
   ]
  },
  {
   "cell_type": "markdown",
   "id": "35ec0ddf-742a-4b80-8b01-1ccfefe0dbda",
   "metadata": {},
   "source": [
    "hola"
   ]
  },
  {
   "cell_type": "markdown",
   "id": "ae97c02f-5188-4e64-85b4-c6bcb425e26b",
   "metadata": {},
   "source": [
    "que tal"
   ]
  },
  {
   "cell_type": "code",
   "execution_count": null,
   "id": "22eb63c6-9f90-44bd-8ce7-652e8f3f1d9e",
   "metadata": {},
   "outputs": [],
   "source": []
  }
 ],
 "metadata": {
  "kernelspec": {
   "display_name": "Python 3 (ipykernel)",
   "language": "python",
   "name": "python3"
  },
  "language_info": {
   "codemirror_mode": {
    "name": "ipython",
    "version": 3
   },
   "file_extension": ".py",
   "mimetype": "text/x-python",
   "name": "python",
   "nbconvert_exporter": "python",
   "pygments_lexer": "ipython3",
   "version": "3.11.4"
  }
 },
 "nbformat": 4,
 "nbformat_minor": 5
}
